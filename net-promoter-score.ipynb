{
 "cells": [
  {
   "cell_type": "code",
   "execution_count": 2,
   "metadata": {},
   "outputs": [],
   "source": [
    "# Importando a biblioteca\n",
    "\n",
    "import pandas as pd\n",
    "\n",
    "df = pd.read_csv('feedbacks.csv', delimiter=';')"
   ]
  },
  {
   "cell_type": "markdown",
   "metadata": {},
   "source": [
    "#### Modelo Imperativo\n",
    "\n",
    "Na célula abaixo, a leitura do código é feita em um arquivo CSV que armazena as opiniões dos usuários, sendo que cada avaliação possui uma pontuação correspondente.\n",
    "O Net Promoter Score (NPS) é determinado pela variação entre a porcentagem de defensores (pontuação >= 9) e críticos (pontuação <= 6), multiplicada por 100.\n",
    "A execução ocorre de forma imperativa, seguindo uma sequência de instruções."
   ]
  },
  {
   "cell_type": "code",
   "execution_count": null,
   "metadata": {},
   "outputs": [],
   "source": [
    "notas = df['nota']\n",
    "\n",
    "negativos = 0\n",
    "positivos = 0\n",
    "\n",
    "for nota in notas:\n",
    "  if nota >= 9:\n",
    "    negativos += 1\n",
    "  elif nota <= 6:\n",
    "    positivos += 1\n",
    "\n",
    "nps = (negativos - positivos) / len(notas) * 100\n",
    "\n",
    "print(nps)"
   ]
  },
  {
   "cell_type": "markdown",
   "metadata": {},
   "source": [
    "#### Modelo Funcional\n",
    "\n",
    "Na célula abaixo, adotei uma perspectiva funcional para derivar o NPS a partir das informações de feedback.\n",
    "A função \"calcular_nps\" foi criada para envolver a lógica do cálculo. \n",
    "Essa implementação demonstra uma distinção mais evidente de responsabilidades em comparação com a abordagem imperativa, incluindo melhorias específicas no código."
   ]
  },
  {
   "cell_type": "code",
   "execution_count": null,
   "metadata": {},
   "outputs": [],
   "source": [
    "def calcular_nps(notas):\n",
    "  negativos = notas.apply(lambda nota: nota <= 6).sum()\n",
    "  positivos = notas[notas >= 9].count()\n",
    "\n",
    "  return (positivos - negativos) / len(notas) * 100\n",
    "\n",
    "notas = df['nota']\n",
    "\n",
    "nps = calcular_nps(notas)\n",
    "\n",
    "print(nps)"
   ]
  },
  {
   "cell_type": "markdown",
   "metadata": {},
   "source": [
    "#### Modelo Orientado a Objetos (POO).\n",
    "\n",
    "Na célula abaixo, optei por uma abordagem Orientada a Objetos (OO) para a determinação do NPS a partir das avaliações dos usuários.\n",
    "Duas classes são apresentadas, sendo:\n",
    "\n",
    "Feedback, que representa uma única avaliação de usuário;\n",
    "AnalisadorFeedback, utilizado para calcular o NPS a partir de uma lista de Feedbacks.\n",
    "A POO proporciona uma representação mais clara dos dados e comportamentos relacionados ao cálculo do NPS.\n",
    "Assim, nossa solução estará apta a acompanhar as futuras evoluções do projeto."
   ]
  },
  {
   "cell_type": "code",
   "execution_count": null,
   "metadata": {},
   "outputs": [],
   "source": [
    "class Feedback:\n",
    "  def __init__(self, nota, comentario):\n",
    "    self.nota = nota\n",
    "    self.comentario = comentario\n",
    "\n",
    "class AnalisadorFeedback:\n",
    "  def __init__(self, feedbacks):\n",
    "    self.feedbacks = feedbacks\n",
    "\n",
    "  def calcular_nps(self):\n",
    "    # Comprensão de listas para filtragem dos Feedbacks, Python permite isso.\n",
    "    negativos = sum(1 for feedback in self.feedbacks if feedback.nota <= 6)\n",
    "    positivos = sum(1 for feedback in self.feedbacks if feedback.nota >= 9)\n",
    "\n",
    "    return (positivos - negativos) / len(self.feedbacks) * 100\n",
    "\n",
    "feedbacks = df.apply(lambda linha: Feedback(linha['nota'], linha['comentario']), axis=1)\n",
    "\n",
    "analisador = AnalisadorFeedback(feedbacks)\n",
    "nps = analisador.calcular_nps()\n",
    "\n",
    "print(nps)"
   ]
  },
  {
   "cell_type": "markdown",
   "metadata": {},
   "source": [
    "#### Visualização gráfica do NPS\n",
    "\n",
    "Na célula abaixo, vamos usar a biblioteca matplotlib para criar um gráfico sobre o método até aqui apresentado."
   ]
  },
  {
   "cell_type": "code",
   "execution_count": 22,
   "metadata": {},
   "outputs": [
    {
     "data": {
      "image/png": "[encoded data removed]",
      "text/plain": [
       "<Figure size 1000x200 with 1 Axes>"
      ]
     },
     "metadata": {},
     "output_type": "display_data"
    }
   ],
   "source": [
    "import matplotlib.pyplot as plt\n",
    "import matplotlib.patches as mpatches\n",
    "\n",
    "# Definição das constantes que usaremos para visualizar as métricas\n",
    "METRICAS =   ['Crítico', 'Aperfeiçoamento', 'Qualidade', 'Excelência']\n",
    "VALORES = [-100, 0, 50, 75, 100]\n",
    "CORES =   ['#FF595E', '#FFCA3A', '#8AC926', '#1982C4']\n",
    "\n",
    "def criar_grafico_metricas(nps):\n",
    "  # Inicia a figura e os eixos.\n",
    "  fig, ax = plt.subplots(figsize=(10, 2))\n",
    "\n",
    "  # Itera sobre as métricas para criar a barra de cores do gráfico.\n",
    "  for i, metrica in enumerate(METRICAS):\n",
    "    ax.barh([0], width=VALORES[i+1]-VALORES[i], left=VALORES[i], color=CORES[i])\n",
    "\n",
    "  # Cria o \"traço\" que vai indicar as métricas no gráfico.\n",
    "  ax.barh([0], width=1, left=nps, color='black')\n",
    "  # Remove os ticks do eixo Y\n",
    "  ax.set_yticks([])\n",
    "  # Define os limites do eixo X\n",
    "  ax.set_xlim(-100, 100)\n",
    "  # Define os ticks do eixo X\n",
    "  ax.set_xticks(VALORES)\n",
    "\n",
    "  # Inclui o valor das métricas, que fica alinhado com o traço.\n",
    "  plt.text(nps, 0, f'{nps:.1f}', ha='center', va='center', color='white', bbox=dict(facecolor='black'))\n",
    "\n",
    "  # Legenda do gráfico.\n",
    "  patches = [mpatches.Patch(color=CORES[i], label=METRICAS[i]) for i in range(len(METRICAS))]\n",
    "  plt.legend(handles=patches, bbox_to_anchor=(1,1))\n",
    "\n",
    "  # Título do gráfico.\n",
    "  plt.title('Feedbacks - Net Promoter Score')\n",
    "\n",
    "  # Apresentação do gráfico.\n",
    "  plt.show()\n",
    "\n",
    "# Vamos criar o gráfico com o valor de exemplo\n",
    "criar_grafico_metricas(nps)\n"
   ]
  }
 ],
 "metadata": {
  "kernelspec": {
   "display_name": "Python 3",
   "language": "python",
   "name": "python3"
  },
  "language_info": {
   "codemirror_mode": {
    "name": "ipython",
    "version": 3
   },
   "file_extension": ".py",
   "mimetype": "text/x-python",
   "name": "python",
   "nbconvert_exporter": "python",
   "pygments_lexer": "ipython3",
   "version": "3.11.5"
  }
 },
 "nbformat": 4,
 "nbformat_minor": 2
}
